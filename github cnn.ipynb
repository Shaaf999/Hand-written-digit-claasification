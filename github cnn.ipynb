{
 "cells": [
  {
   "cell_type": "code",
   "execution_count": 10,
   "id": "f81f4497",
   "metadata": {},
   "outputs": [],
   "source": [
    "import numpy as np \n",
    "import matplotlib.pyplot as plt\n",
    "from sklearn.datasets import load_digits\n",
    "from sklearn import datasets\n",
    "from sklearn.model_selection import train_test_split\n",
    "from keras.utils.np_utils import to_categorical"
   ]
  },
  {
   "cell_type": "code",
   "execution_count": 2,
   "id": "923651e0",
   "metadata": {},
   "outputs": [],
   "source": [
    "data= datasets.load_digits()"
   ]
  },
  {
   "cell_type": "code",
   "execution_count": 37,
   "id": "9047336c",
   "metadata": {},
   "outputs": [
    {
     "data": {
      "image/png": "[encoded data removed]",
      "text/plain": [
       "<Figure size 432x288 with 1 Axes>"
      ]
     },
     "metadata": {
      "needs_background": "light"
     },
     "output_type": "display_data"
    },
    {
     "name": "stdout",
     "output_type": "stream",
     "text": [
      "label: 9\n"
     ]
    }
   ],
   "source": [
    "plt.imshow(data.images[9])\n",
    "plt.show()\n",
    "print('label:', data.target[9])"
   ]
  },
  {
   "cell_type": "code",
   "execution_count": 38,
   "id": "3e17eae1",
   "metadata": {},
   "outputs": [],
   "source": [
    "whole_data = load_digits()\n",
    "X_data = whole_data.images\n",
    "y_data = whole_data.target"
   ]
  },
  {
   "cell_type": "code",
   "execution_count": 39,
   "id": "1bca3ccf",
   "metadata": {},
   "outputs": [
    {
     "name": "stdout",
     "output_type": "stream",
     "text": [
      "(1797, 8, 8)\n",
      "(1797,)\n"
     ]
    }
   ],
   "source": [
    "X_data = data.images\n",
    "y_data = data.target\n",
    "print(X_data.shape)\n",
    "print(y_data.shape)"
   ]
  },
  {
   "cell_type": "code",
   "execution_count": 40,
   "id": "65752648",
   "metadata": {},
   "outputs": [
    {
     "data": {
      "text/plain": [
       "array([[ 0.,  0.,  5., 13.,  9.,  1.,  0.,  0.],\n",
       "       [ 0.,  0., 13., 15., 10., 15.,  5.,  0.],\n",
       "       [ 0.,  3., 15.,  2.,  0., 11.,  8.,  0.],\n",
       "       [ 0.,  4., 12.,  0.,  0.,  8.,  8.,  0.],\n",
       "       [ 0.,  5.,  8.,  0.,  0.,  9.,  8.,  0.],\n",
       "       [ 0.,  4., 11.,  0.,  1., 12.,  7.,  0.],\n",
       "       [ 0.,  2., 14.,  5., 10., 12.,  0.,  0.],\n",
       "       [ 0.,  0.,  6., 13., 10.,  0.,  0.,  0.]])"
      ]
     },
     "execution_count": 40,
     "metadata": {},
     "output_type": "execute_result"
    }
   ],
   "source": [
    "X_data[0]"
   ]
  },
  {
   "cell_type": "code",
   "execution_count": 41,
   "id": "f068d918",
   "metadata": {},
   "outputs": [
    {
     "data": {
      "text/plain": [
       "array([0, 1, 2, ..., 8, 9, 8])"
      ]
     },
     "execution_count": 41,
     "metadata": {},
     "output_type": "execute_result"
    }
   ],
   "source": [
    "y_data"
   ]
  },
  {
   "cell_type": "code",
   "execution_count": 42,
   "id": "f8c43539",
   "metadata": {},
   "outputs": [],
   "source": [
    "y_data = to_categorical(y_data)"
   ]
  },
  {
   "cell_type": "code",
   "execution_count": 43,
   "id": "7c254f9c",
   "metadata": {},
   "outputs": [],
   "source": [
    "X_train, X_test, y_train, y_test = train_test_split(X_data, y_data, test_size = 0.3, random_state = 777)\n",
    "X_check = X_test"
   ]
  },
  {
   "cell_type": "code",
   "execution_count": 44,
   "id": "0d647e04",
   "metadata": {},
   "outputs": [],
   "source": [
    "X_train = X_train.reshape((X_train.shape[0],X_train.shape[1],X_train.shape[2],1))\n",
    "X_test = X_test.reshape((X_test.shape[0],X_test.shape[1],X_test.shape[2],1))"
   ]
  },
  {
   "cell_type": "code",
   "execution_count": 45,
   "id": "c237867c",
   "metadata": {},
   "outputs": [],
   "source": [
    "from keras import Sequential \n",
    "from keras import optimizers\n",
    "from keras.layers import Dense, Activation, Flatten, Conv2D, MaxPooling2D"
   ]
  },
  {
   "cell_type": "code",
   "execution_count": 46,
   "id": "419d1759",
   "metadata": {},
   "outputs": [],
   "source": [
    "model = Sequential()"
   ]
  },
  {
   "cell_type": "code",
   "execution_count": 47,
   "id": "60336a55",
   "metadata": {},
   "outputs": [],
   "source": [
    "model.add(Conv2D(input_shape = (X_train.shape[1], X_train.shape[2], X_train.shape[3]), filters = 10, kernel_size = (3,3), strides = (1,1), padding = 'valid'))"
   ]
  },
  {
   "cell_type": "code",
   "execution_count": 48,
   "id": "1e0f944f",
   "metadata": {},
   "outputs": [],
   "source": [
    "model.add(Activation('relu'))\n"
   ]
  },
  {
   "cell_type": "code",
   "execution_count": 49,
   "id": "65bed14a",
   "metadata": {},
   "outputs": [],
   "source": [
    "model.add(MaxPooling2D(pool_size = (2,2)))"
   ]
  },
  {
   "cell_type": "code",
   "execution_count": 50,
   "id": "6f3a6c93",
   "metadata": {},
   "outputs": [],
   "source": [
    "model.add(Flatten())"
   ]
  },
  {
   "cell_type": "code",
   "execution_count": 51,
   "id": "816cc459",
   "metadata": {},
   "outputs": [],
   "source": [
    "model.add(Dense(50, activation = 'relu'))\n"
   ]
  },
  {
   "cell_type": "code",
   "execution_count": 52,
   "id": "13e7bb95",
   "metadata": {},
   "outputs": [],
   "source": [
    "model.add(Dense(10, activation = 'softmax'))"
   ]
  },
  {
   "cell_type": "code",
   "execution_count": 53,
   "id": "bd7355a5",
   "metadata": {},
   "outputs": [],
   "source": [
    "import tensorflow as tf"
   ]
  },
  {
   "cell_type": "code",
   "execution_count": 54,
   "id": "8a53ee5e",
   "metadata": {},
   "outputs": [],
   "source": [
    "adam =tf.optimizers.Adam(learning_rate = 0.001)\n",
    "model.compile(loss = 'categorical_crossentropy',optimizer = adam, metrics = ['accuracy'])"
   ]
  },
  {
   "cell_type": "code",
   "execution_count": 55,
   "id": "cec89183",
   "metadata": {},
   "outputs": [
    {
     "name": "stdout",
     "output_type": "stream",
     "text": [
      "Model: \"sequential_1\"\n",
      "_________________________________________________________________\n",
      "Layer (type)                 Output Shape              Param #   \n",
      "=================================================================\n",
      "conv2d_1 (Conv2D)            (None, 6, 6, 10)          100       \n",
      "_________________________________________________________________\n",
      "activation_1 (Activation)    (None, 6, 6, 10)          0         \n",
      "_________________________________________________________________\n",
      "max_pooling2d_5 (MaxPooling2 (None, 3, 3, 10)          0         \n",
      "_________________________________________________________________\n",
      "flatten_2 (Flatten)          (None, 90)                0         \n",
      "_________________________________________________________________\n",
      "dense_4 (Dense)              (None, 50)                4550      \n",
      "_________________________________________________________________\n",
      "dense_5 (Dense)              (None, 10)                510       \n",
      "=================================================================\n",
      "Total params: 5,160\n",
      "Trainable params: 5,160\n",
      "Non-trainable params: 0\n",
      "_________________________________________________________________\n"
     ]
    }
   ],
   "source": [
    "model.summary()"
   ]
  },
  {
   "cell_type": "code",
   "execution_count": 56,
   "id": "d96aa4cf",
   "metadata": {},
   "outputs": [
    {
     "name": "stdout",
     "output_type": "stream",
     "text": [
      "Epoch 1/100\n",
      "21/21 [==============================] - 1s 21ms/step - loss: 2.5637 - accuracy: 0.2448 - val_loss: 1.6193 - val_accuracy: 0.3849\n",
      "Epoch 2/100\n",
      "21/21 [==============================] - 0s 6ms/step - loss: 1.4076 - accuracy: 0.5214 - val_loss: 0.9729 - val_accuracy: 0.7460\n",
      "Epoch 3/100\n",
      "21/21 [==============================] - 0s 6ms/step - loss: 0.8763 - accuracy: 0.7682 - val_loss: 0.5974 - val_accuracy: 0.8611\n",
      "Epoch 4/100\n",
      "21/21 [==============================] - 0s 6ms/step - loss: 0.6018 - accuracy: 0.8428 - val_loss: 0.3989 - val_accuracy: 0.9087\n",
      "Epoch 5/100\n",
      "21/21 [==============================] - 0s 6ms/step - loss: 0.4413 - accuracy: 0.8925 - val_loss: 0.2963 - val_accuracy: 0.9286\n",
      "Epoch 6/100\n",
      "21/21 [==============================] - 0s 6ms/step - loss: 0.3458 - accuracy: 0.9124 - val_loss: 0.2381 - val_accuracy: 0.9405\n",
      "Epoch 7/100\n",
      "21/21 [==============================] - 0s 6ms/step - loss: 0.2764 - accuracy: 0.9264 - val_loss: 0.1968 - val_accuracy: 0.9683\n",
      "Epoch 8/100\n",
      "21/21 [==============================] - 0s 6ms/step - loss: 0.2311 - accuracy: 0.9393 - val_loss: 0.1739 - val_accuracy: 0.9603\n",
      "Epoch 9/100\n",
      "21/21 [==============================] - 0s 6ms/step - loss: 0.2013 - accuracy: 0.9463 - val_loss: 0.1518 - val_accuracy: 0.9683\n",
      "Epoch 10/100\n",
      "21/21 [==============================] - 0s 6ms/step - loss: 0.1738 - accuracy: 0.9562 - val_loss: 0.1409 - val_accuracy: 0.9643\n",
      "Epoch 11/100\n",
      "21/21 [==============================] - 0s 6ms/step - loss: 0.1454 - accuracy: 0.9652 - val_loss: 0.1321 - val_accuracy: 0.9722\n",
      "Epoch 12/100\n",
      "21/21 [==============================] - 0s 6ms/step - loss: 0.1289 - accuracy: 0.9721 - val_loss: 0.1279 - val_accuracy: 0.9722\n",
      "Epoch 13/100\n",
      "21/21 [==============================] - 0s 6ms/step - loss: 0.1181 - accuracy: 0.9731 - val_loss: 0.1041 - val_accuracy: 0.9802\n",
      "Epoch 14/100\n",
      "21/21 [==============================] - 0s 6ms/step - loss: 0.1132 - accuracy: 0.9731 - val_loss: 0.1108 - val_accuracy: 0.9722\n",
      "Epoch 15/100\n",
      "21/21 [==============================] - 0s 6ms/step - loss: 0.1245 - accuracy: 0.9632 - val_loss: 0.0858 - val_accuracy: 0.9802\n",
      "Epoch 16/100\n",
      "21/21 [==============================] - 0s 5ms/step - loss: 0.0947 - accuracy: 0.9751 - val_loss: 0.0977 - val_accuracy: 0.9802\n",
      "Epoch 17/100\n",
      "21/21 [==============================] - 0s 6ms/step - loss: 0.0793 - accuracy: 0.9851 - val_loss: 0.0859 - val_accuracy: 0.9762\n",
      "Epoch 18/100\n",
      "21/21 [==============================] - 0s 6ms/step - loss: 0.0713 - accuracy: 0.9851 - val_loss: 0.0790 - val_accuracy: 0.9881\n",
      "Epoch 19/100\n",
      "21/21 [==============================] - 0s 6ms/step - loss: 0.0733 - accuracy: 0.9831 - val_loss: 0.0909 - val_accuracy: 0.9722\n",
      "Epoch 20/100\n",
      "21/21 [==============================] - 0s 6ms/step - loss: 0.0614 - accuracy: 0.9900 - val_loss: 0.0679 - val_accuracy: 0.9841\n",
      "Epoch 21/100\n",
      "21/21 [==============================] - 0s 6ms/step - loss: 0.0635 - accuracy: 0.9841 - val_loss: 0.0772 - val_accuracy: 0.9841\n",
      "Epoch 22/100\n",
      "21/21 [==============================] - 0s 6ms/step - loss: 0.0587 - accuracy: 0.9910 - val_loss: 0.0629 - val_accuracy: 0.9841\n",
      "Epoch 23/100\n",
      "21/21 [==============================] - 0s 6ms/step - loss: 0.0474 - accuracy: 0.9920 - val_loss: 0.0650 - val_accuracy: 0.9802\n",
      "Epoch 24/100\n",
      "21/21 [==============================] - 0s 6ms/step - loss: 0.0435 - accuracy: 0.9950 - val_loss: 0.0658 - val_accuracy: 0.9881\n",
      "Epoch 25/100\n",
      "21/21 [==============================] - 0s 8ms/step - loss: 0.0399 - accuracy: 0.9960 - val_loss: 0.0644 - val_accuracy: 0.9841\n",
      "Epoch 26/100\n",
      "21/21 [==============================] - 0s 5ms/step - loss: 0.0368 - accuracy: 0.9960 - val_loss: 0.0535 - val_accuracy: 0.9841\n",
      "Epoch 27/100\n",
      "21/21 [==============================] - 0s 6ms/step - loss: 0.0344 - accuracy: 0.9990 - val_loss: 0.0527 - val_accuracy: 0.9841\n",
      "Epoch 28/100\n",
      "21/21 [==============================] - 0s 6ms/step - loss: 0.0313 - accuracy: 0.9990 - val_loss: 0.0593 - val_accuracy: 0.9881\n",
      "Epoch 29/100\n",
      "21/21 [==============================] - 0s 6ms/step - loss: 0.0297 - accuracy: 0.9990 - val_loss: 0.0564 - val_accuracy: 0.9881\n",
      "Epoch 30/100\n",
      "21/21 [==============================] - 0s 7ms/step - loss: 0.0283 - accuracy: 0.9980 - val_loss: 0.0542 - val_accuracy: 0.9881\n",
      "Epoch 31/100\n",
      "21/21 [==============================] - 0s 6ms/step - loss: 0.0306 - accuracy: 0.9970 - val_loss: 0.0539 - val_accuracy: 0.9841\n",
      "Epoch 32/100\n",
      "21/21 [==============================] - 0s 7ms/step - loss: 0.0281 - accuracy: 0.9970 - val_loss: 0.0534 - val_accuracy: 0.9881\n",
      "Epoch 33/100\n",
      "21/21 [==============================] - 0s 6ms/step - loss: 0.0301 - accuracy: 0.9970 - val_loss: 0.0487 - val_accuracy: 0.9841\n",
      "Epoch 34/100\n",
      "21/21 [==============================] - 0s 6ms/step - loss: 0.0222 - accuracy: 0.9990 - val_loss: 0.0499 - val_accuracy: 0.9841\n",
      "Epoch 35/100\n",
      "21/21 [==============================] - 0s 5ms/step - loss: 0.0213 - accuracy: 0.9990 - val_loss: 0.0469 - val_accuracy: 0.9881\n",
      "Epoch 36/100\n",
      "21/21 [==============================] - 0s 6ms/step - loss: 0.0192 - accuracy: 0.9990 - val_loss: 0.0443 - val_accuracy: 0.9841\n",
      "Epoch 37/100\n",
      "21/21 [==============================] - 0s 5ms/step - loss: 0.0191 - accuracy: 0.9990 - val_loss: 0.0493 - val_accuracy: 0.9881\n",
      "Epoch 38/100\n",
      "21/21 [==============================] - 0s 6ms/step - loss: 0.0187 - accuracy: 0.9990 - val_loss: 0.0431 - val_accuracy: 0.9881\n",
      "Epoch 39/100\n",
      "21/21 [==============================] - 0s 6ms/step - loss: 0.0175 - accuracy: 0.9990 - val_loss: 0.0432 - val_accuracy: 0.9841\n",
      "Epoch 40/100\n",
      "21/21 [==============================] - 0s 6ms/step - loss: 0.0162 - accuracy: 1.0000 - val_loss: 0.0414 - val_accuracy: 0.9841\n",
      "Epoch 41/100\n",
      "21/21 [==============================] - 0s 7ms/step - loss: 0.0149 - accuracy: 1.0000 - val_loss: 0.0412 - val_accuracy: 0.9841\n",
      "Epoch 42/100\n",
      "21/21 [==============================] - 0s 6ms/step - loss: 0.0145 - accuracy: 1.0000 - val_loss: 0.0488 - val_accuracy: 0.9841\n",
      "Epoch 43/100\n",
      "21/21 [==============================] - 0s 5ms/step - loss: 0.0139 - accuracy: 1.0000 - val_loss: 0.0373 - val_accuracy: 0.9881\n",
      "Epoch 44/100\n",
      "21/21 [==============================] - 0s 5ms/step - loss: 0.0132 - accuracy: 0.9990 - val_loss: 0.0441 - val_accuracy: 0.9881\n",
      "Epoch 45/100\n",
      "21/21 [==============================] - 0s 6ms/step - loss: 0.0131 - accuracy: 1.0000 - val_loss: 0.0397 - val_accuracy: 0.9841\n",
      "Epoch 46/100\n",
      "21/21 [==============================] - 0s 6ms/step - loss: 0.0135 - accuracy: 1.0000 - val_loss: 0.0408 - val_accuracy: 0.9881\n",
      "Epoch 47/100\n",
      "21/21 [==============================] - 0s 6ms/step - loss: 0.0162 - accuracy: 0.9990 - val_loss: 0.0356 - val_accuracy: 0.9881\n",
      "Epoch 48/100\n",
      "21/21 [==============================] - 0s 5ms/step - loss: 0.0133 - accuracy: 0.9990 - val_loss: 0.0354 - val_accuracy: 0.9921\n",
      "Epoch 49/100\n",
      "21/21 [==============================] - 0s 6ms/step - loss: 0.0111 - accuracy: 1.0000 - val_loss: 0.0350 - val_accuracy: 0.9921\n",
      "Epoch 50/100\n",
      "21/21 [==============================] - 0s 5ms/step - loss: 0.0119 - accuracy: 0.9990 - val_loss: 0.0372 - val_accuracy: 0.9881\n",
      "Epoch 51/100\n",
      "21/21 [==============================] - 0s 5ms/step - loss: 0.0098 - accuracy: 0.9990 - val_loss: 0.0374 - val_accuracy: 0.9802\n",
      "Epoch 52/100\n",
      "21/21 [==============================] - 0s 6ms/step - loss: 0.0092 - accuracy: 1.0000 - val_loss: 0.0326 - val_accuracy: 0.9881\n",
      "Epoch 53/100\n",
      "21/21 [==============================] - 0s 6ms/step - loss: 0.0090 - accuracy: 1.0000 - val_loss: 0.0271 - val_accuracy: 0.9881\n",
      "Epoch 54/100\n",
      "21/21 [==============================] - 0s 7ms/step - loss: 0.0077 - accuracy: 1.0000 - val_loss: 0.0317 - val_accuracy: 0.9881\n",
      "Epoch 55/100\n",
      "21/21 [==============================] - 0s 5ms/step - loss: 0.0075 - accuracy: 1.0000 - val_loss: 0.0307 - val_accuracy: 0.9881\n",
      "Epoch 56/100\n",
      "21/21 [==============================] - 0s 5ms/step - loss: 0.0078 - accuracy: 1.0000 - val_loss: 0.0330 - val_accuracy: 0.9921\n",
      "Epoch 57/100\n",
      "21/21 [==============================] - 0s 7ms/step - loss: 0.0074 - accuracy: 1.0000 - val_loss: 0.0291 - val_accuracy: 0.9921\n",
      "Epoch 58/100\n",
      "21/21 [==============================] - 0s 6ms/step - loss: 0.0072 - accuracy: 1.0000 - val_loss: 0.0303 - val_accuracy: 0.9881\n",
      "Epoch 59/100\n",
      "21/21 [==============================] - 0s 6ms/step - loss: 0.0062 - accuracy: 1.0000 - val_loss: 0.0307 - val_accuracy: 0.9881\n",
      "Epoch 60/100\n",
      "21/21 [==============================] - 0s 6ms/step - loss: 0.0061 - accuracy: 1.0000 - val_loss: 0.0281 - val_accuracy: 0.9921\n",
      "Epoch 61/100\n",
      "21/21 [==============================] - 0s 6ms/step - loss: 0.0059 - accuracy: 1.0000 - val_loss: 0.0301 - val_accuracy: 0.9921\n",
      "Epoch 62/100\n",
      "21/21 [==============================] - 0s 6ms/step - loss: 0.0057 - accuracy: 1.0000 - val_loss: 0.0287 - val_accuracy: 0.9921\n",
      "Epoch 63/100\n",
      "21/21 [==============================] - 0s 11ms/step - loss: 0.0054 - accuracy: 1.0000 - val_loss: 0.0281 - val_accuracy: 0.9881\n",
      "Epoch 64/100\n",
      "21/21 [==============================] - 0s 6ms/step - loss: 0.0051 - accuracy: 1.0000 - val_loss: 0.0272 - val_accuracy: 0.9921\n",
      "Epoch 65/100\n",
      "21/21 [==============================] - 0s 6ms/step - loss: 0.0050 - accuracy: 1.0000 - val_loss: 0.0285 - val_accuracy: 0.9881\n",
      "Epoch 66/100\n",
      "21/21 [==============================] - 0s 6ms/step - loss: 0.0048 - accuracy: 1.0000 - val_loss: 0.0271 - val_accuracy: 0.9921\n",
      "Epoch 67/100\n",
      "21/21 [==============================] - 0s 9ms/step - loss: 0.0050 - accuracy: 1.0000 - val_loss: 0.0240 - val_accuracy: 0.9921\n",
      "Epoch 68/100\n",
      "21/21 [==============================] - 0s 6ms/step - loss: 0.0047 - accuracy: 1.0000 - val_loss: 0.0292 - val_accuracy: 0.9881\n",
      "Epoch 69/100\n",
      "21/21 [==============================] - 0s 5ms/step - loss: 0.0046 - accuracy: 1.0000 - val_loss: 0.0249 - val_accuracy: 0.9921\n",
      "Epoch 70/100\n",
      "21/21 [==============================] - 0s 6ms/step - loss: 0.0043 - accuracy: 1.0000 - val_loss: 0.0286 - val_accuracy: 0.9881\n",
      "Epoch 71/100\n",
      "21/21 [==============================] - 0s 5ms/step - loss: 0.0041 - accuracy: 1.0000 - val_loss: 0.0249 - val_accuracy: 0.9921\n",
      "Epoch 72/100\n",
      "21/21 [==============================] - 0s 6ms/step - loss: 0.0043 - accuracy: 1.0000 - val_loss: 0.0254 - val_accuracy: 0.9921\n",
      "Epoch 73/100\n",
      "21/21 [==============================] - 0s 6ms/step - loss: 0.0040 - accuracy: 1.0000 - val_loss: 0.0245 - val_accuracy: 0.9921\n",
      "Epoch 74/100\n",
      "21/21 [==============================] - 0s 6ms/step - loss: 0.0038 - accuracy: 1.0000 - val_loss: 0.0254 - val_accuracy: 0.9921\n",
      "Epoch 75/100\n",
      "21/21 [==============================] - 0s 6ms/step - loss: 0.0039 - accuracy: 1.0000 - val_loss: 0.0251 - val_accuracy: 0.9921\n",
      "Epoch 76/100\n",
      "21/21 [==============================] - 0s 6ms/step - loss: 0.0037 - accuracy: 1.0000 - val_loss: 0.0270 - val_accuracy: 0.9881\n",
      "Epoch 77/100\n",
      "21/21 [==============================] - 0s 6ms/step - loss: 0.0035 - accuracy: 1.0000 - val_loss: 0.0243 - val_accuracy: 0.9921\n",
      "Epoch 78/100\n",
      "21/21 [==============================] - 0s 6ms/step - loss: 0.0035 - accuracy: 1.0000 - val_loss: 0.0241 - val_accuracy: 0.9921\n",
      "Epoch 79/100\n",
      "21/21 [==============================] - 0s 5ms/step - loss: 0.0034 - accuracy: 1.0000 - val_loss: 0.0254 - val_accuracy: 0.9921\n",
      "Epoch 80/100\n",
      "21/21 [==============================] - 0s 9ms/step - loss: 0.0031 - accuracy: 1.0000 - val_loss: 0.0231 - val_accuracy: 0.9921\n",
      "Epoch 81/100\n",
      "21/21 [==============================] - 0s 6ms/step - loss: 0.0030 - accuracy: 1.0000 - val_loss: 0.0245 - val_accuracy: 0.9921\n",
      "Epoch 82/100\n",
      "21/21 [==============================] - 0s 6ms/step - loss: 0.0030 - accuracy: 1.0000 - val_loss: 0.0238 - val_accuracy: 0.9921\n",
      "Epoch 83/100\n",
      "21/21 [==============================] - 0s 6ms/step - loss: 0.0029 - accuracy: 1.0000 - val_loss: 0.0236 - val_accuracy: 0.9921\n",
      "Epoch 84/100\n",
      "21/21 [==============================] - 0s 6ms/step - loss: 0.0029 - accuracy: 1.0000 - val_loss: 0.0237 - val_accuracy: 0.9921\n",
      "Epoch 85/100\n",
      "21/21 [==============================] - 0s 6ms/step - loss: 0.0028 - accuracy: 1.0000 - val_loss: 0.0241 - val_accuracy: 0.9921\n",
      "Epoch 86/100\n",
      "21/21 [==============================] - 0s 6ms/step - loss: 0.0031 - accuracy: 1.0000 - val_loss: 0.0273 - val_accuracy: 0.9881\n",
      "Epoch 87/100\n",
      "21/21 [==============================] - 0s 5ms/step - loss: 0.0027 - accuracy: 1.0000 - val_loss: 0.0239 - val_accuracy: 0.9921\n",
      "Epoch 88/100\n",
      "21/21 [==============================] - 0s 6ms/step - loss: 0.0025 - accuracy: 1.0000 - val_loss: 0.0241 - val_accuracy: 0.9921\n",
      "Epoch 89/100\n",
      "21/21 [==============================] - 0s 6ms/step - loss: 0.0024 - accuracy: 1.0000 - val_loss: 0.0236 - val_accuracy: 0.9921\n",
      "Epoch 90/100\n",
      "21/21 [==============================] - 0s 6ms/step - loss: 0.0024 - accuracy: 1.0000 - val_loss: 0.0233 - val_accuracy: 0.9921\n",
      "Epoch 91/100\n",
      "21/21 [==============================] - 0s 6ms/step - loss: 0.0023 - accuracy: 1.0000 - val_loss: 0.0232 - val_accuracy: 0.9921\n",
      "Epoch 92/100\n",
      "21/21 [==============================] - 0s 10ms/step - loss: 0.0022 - accuracy: 1.0000 - val_loss: 0.0228 - val_accuracy: 0.9921\n",
      "Epoch 93/100\n",
      "21/21 [==============================] - 0s 8ms/step - loss: 0.0022 - accuracy: 1.0000 - val_loss: 0.0237 - val_accuracy: 0.9921\n",
      "Epoch 94/100\n",
      "21/21 [==============================] - 0s 7ms/step - loss: 0.0023 - accuracy: 1.0000 - val_loss: 0.0222 - val_accuracy: 0.9921\n",
      "Epoch 95/100\n",
      "21/21 [==============================] - 0s 7ms/step - loss: 0.0022 - accuracy: 1.0000 - val_loss: 0.0235 - val_accuracy: 0.9881\n",
      "Epoch 96/100\n",
      "21/21 [==============================] - 0s 7ms/step - loss: 0.0021 - accuracy: 1.0000 - val_loss: 0.0226 - val_accuracy: 0.9921\n",
      "Epoch 97/100\n",
      "21/21 [==============================] - 0s 6ms/step - loss: 0.0020 - accuracy: 1.0000 - val_loss: 0.0223 - val_accuracy: 0.9921\n",
      "Epoch 98/100\n",
      "21/21 [==============================] - 0s 7ms/step - loss: 0.0020 - accuracy: 1.0000 - val_loss: 0.0231 - val_accuracy: 0.9921\n",
      "Epoch 99/100\n",
      "21/21 [==============================] - 0s 7ms/step - loss: 0.0019 - accuracy: 1.0000 - val_loss: 0.0215 - val_accuracy: 0.9921\n",
      "Epoch 100/100\n",
      "21/21 [==============================] - ETA: 0s - loss: 0.0019 - accuracy: 1.00 - 0s 8ms/step - loss: 0.0019 - accuracy: 1.0000 - val_loss: 0.0224 - val_accuracy: 0.9921\n"
     ]
    }
   ],
   "source": [
    "hitory = model.fit(X_train, y_train, batch_size = 50, validation_split = 0.2, epochs = 100, verbose = 1)"
   ]
  },
  {
   "cell_type": "code",
   "execution_count": 57,
   "id": "04545cb1",
   "metadata": {},
   "outputs": [
    {
     "name": "stdout",
     "output_type": "stream",
     "text": [
      "17/17 [==============================] - 0s 2ms/step - loss: 0.0920 - accuracy: 0.9778\n"
     ]
    }
   ],
   "source": [
    "results= model.evaluate(X_test, y_test)"
   ]
  },
  {
   "cell_type": "code",
   "execution_count": 59,
   "id": "bd8a90f4",
   "metadata": {},
   "outputs": [
    {
     "name": "stdout",
     "output_type": "stream",
     "text": [
      "Test accuracy: 0.9777777791023254\n"
     ]
    }
   ],
   "source": [
    "print('Test accuracy:', results[1])"
   ]
  },
  {
   "cell_type": "code",
   "execution_count": 62,
   "id": "f7627941",
   "metadata": {},
   "outputs": [],
   "source": [
    "results = model.predict(X_test)"
   ]
  },
  {
   "cell_type": "code",
   "execution_count": 63,
   "id": "1fb3f7aa",
   "metadata": {},
   "outputs": [
    {
     "data": {
      "text/plain": [
       "array([3.9515163e-07, 3.4778749e-09, 1.2925588e-09, 9.6861470e-08,\n",
       "       2.1363539e-07, 9.9998128e-01, 2.4892222e-06, 2.2801436e-07,\n",
       "       1.4488279e-07, 1.5121983e-05], dtype=float32)"
      ]
     },
     "execution_count": 63,
     "metadata": {},
     "output_type": "execute_result"
    }
   ],
   "source": [
    "results[0]"
   ]
  },
  {
   "cell_type": "code",
   "execution_count": 64,
   "id": "22f3c1bb",
   "metadata": {},
   "outputs": [
    {
     "data": {
      "text/plain": [
       "(540, 8, 8, 1)"
      ]
     },
     "execution_count": 64,
     "metadata": {},
     "output_type": "execute_result"
    }
   ],
   "source": [
    "X_test.shape"
   ]
  },
  {
   "cell_type": "code",
   "execution_count": 65,
   "id": "7aad2f39",
   "metadata": {},
   "outputs": [],
   "source": [
    "predict_class = np.argmax(results, axis= 1)"
   ]
  },
  {
   "cell_type": "code",
   "execution_count": 66,
   "id": "99bea4eb",
   "metadata": {},
   "outputs": [
    {
     "data": {
      "text/plain": [
       "array([5, 6, 6, 2, 4, 1, 7, 3, 4, 3, 4, 7, 4, 2, 2, 6, 3, 7, 1, 2, 3, 2,\n",
       "       0, 2, 6, 1, 9, 7, 7, 8, 4, 5, 2, 3, 7, 5, 9, 8, 7, 8, 7, 1, 1, 4,\n",
       "       7, 1, 2, 5, 8, 6, 8, 5, 0, 7, 4, 6, 3, 1, 7, 6, 6, 6, 4, 6, 7, 0,\n",
       "       9, 2, 7, 5, 1, 5, 5, 9, 4, 2, 4, 4, 0, 7, 3, 8, 0, 8, 6, 6, 3, 9,\n",
       "       9, 3, 6, 1, 0, 9, 8, 8, 4, 0, 3, 9, 7, 4, 9, 8, 1, 0, 7, 6, 0, 8,\n",
       "       5, 1, 5, 5, 9, 7, 2, 6, 1, 0, 2, 1, 0, 8, 0, 7, 9, 3, 8, 1, 0, 1,\n",
       "       4, 9, 3, 4, 7, 5, 6, 4, 7, 5, 9, 5, 3, 7, 8, 8, 3, 2, 7, 5, 8, 5,\n",
       "       0, 5, 4, 6, 3, 1, 9, 4, 5, 8, 8, 6, 9, 3, 7, 7, 6, 1, 6, 9, 6, 5,\n",
       "       7, 1, 1, 0, 2, 1, 3, 0, 1, 4, 1, 0, 6, 8, 9, 8, 8, 4, 7, 6, 0, 8,\n",
       "       8, 6, 8, 5, 5, 5, 7, 0, 3, 1, 9, 0, 3, 5, 2, 8, 0, 9, 0, 1, 9, 6,\n",
       "       1, 0, 0, 8, 0, 6, 7, 5, 5, 1, 1, 5, 7, 3, 7, 8, 0, 0, 6, 8, 2, 6,\n",
       "       2, 2, 9, 9, 0, 8, 4, 7, 1, 3, 0, 1, 9, 2, 1, 1, 0, 8, 8, 7, 3, 1,\n",
       "       5, 4, 0, 3, 5, 2, 2, 7, 7, 5, 9, 8, 9, 2, 5, 4, 4, 2, 3, 0, 8, 1,\n",
       "       5, 1, 2, 0, 5, 6, 3, 8, 9, 2, 8, 4, 5, 4, 7, 3, 9, 5, 2, 8, 0, 9,\n",
       "       9, 1, 1, 0, 1, 5, 0, 4, 4, 5, 4, 9, 0, 0, 2, 9, 2, 2, 9, 6, 4, 5,\n",
       "       2, 6, 9, 9, 5, 1, 5, 9, 5, 6, 6, 4, 8, 6, 3, 9, 2, 2, 9, 7, 6, 2,\n",
       "       6, 5, 5, 9, 1, 7, 3, 4, 3, 5, 6, 7, 6, 6, 0, 8, 2, 5, 0, 6, 0, 8,\n",
       "       2, 6, 1, 9, 4, 4, 0, 8, 5, 6, 6, 6, 1, 9, 6, 7, 1, 0, 8, 4, 5, 2,\n",
       "       3, 5, 1, 3, 6, 6, 9, 0, 3, 9, 7, 8, 3, 1, 1, 3, 5, 2, 4, 3, 9, 3,\n",
       "       3, 0, 7, 2, 3, 1, 1, 9, 0, 8, 7, 6, 4, 7, 0, 1, 7, 8, 6, 6, 4, 9,\n",
       "       0, 2, 1, 1, 3, 0, 3, 5, 0, 3, 8, 2, 4, 6, 5, 2, 4, 1, 3, 2, 3, 6,\n",
       "       2, 5, 1, 3, 2, 3, 9, 0, 0, 2, 7, 8, 1, 4, 5, 3, 3, 9, 9, 4, 8, 1,\n",
       "       2, 2, 3, 7, 4, 0, 5, 5, 4, 6, 3, 7, 2, 7, 7, 7, 2, 0, 4, 4, 2, 9,\n",
       "       9, 8, 1, 4, 1, 9, 4, 8, 5, 0, 4, 0, 2, 8, 9, 6, 0, 4, 5, 6, 8, 6,\n",
       "       3, 7, 4, 6, 8, 9, 3, 1, 1, 5, 5, 5], dtype=int64)"
      ]
     },
     "execution_count": 66,
     "metadata": {},
     "output_type": "execute_result"
    }
   ],
   "source": [
    "predict_class"
   ]
  },
  {
   "cell_type": "code",
   "execution_count": null,
   "id": "c9284522",
   "metadata": {},
   "outputs": [],
   "source": []
  },
  {
   "cell_type": "code",
   "execution_count": null,
   "id": "24accf42",
   "metadata": {},
   "outputs": [],
   "source": []
  }
 ],
 "metadata": {
  "kernelspec": {
   "display_name": "Python 3",
   "language": "python",
   "name": "python3"
  },
  "language_info": {
   "codemirror_mode": {
    "name": "ipython",
    "version": 3
   },
   "file_extension": ".py",
   "mimetype": "text/x-python",
   "name": "python",
   "nbconvert_exporter": "python",
   "pygments_lexer": "ipython3",
   "version": "3.9.5"
  }
 },
 "nbformat": 4,
 "nbformat_minor": 5
}
